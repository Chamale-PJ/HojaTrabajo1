{
 "cells": [
  {
   "attachments": {},
   "cell_type": "markdown",
   "metadata": {},
   "source": [
    "![Logo](logoGalileo.png \"Logo\")\n",
    "***      \n",
    "# CIENCIA DE DATOS EN PYTHON SECCION *U*\n",
    "## *HOJA DE TRABAJO # 1*\n",
    "##### **Pedro Josué Chamale Perez** - __23000478__"
   ]
  },
  {
   "cell_type": "markdown",
   "metadata": {},
   "source": [
    "### ¿Qué es Git?\n",
    "Git es un _Sistema de Control de Versiones Distribuido_, utilizado para guardar diferentes versiones de un archivo para que cualquier versión sea recuperable cuando lo desee.\n",
    "\n",
    "Este sistema **distribuido** tiene un marcado contraste con otros sistemas de control de versiones. Ellos sólo comparten cualquier versión individual que un usuario haya explícitamente extraído desde la base de datos central/local."
   ]
  },
  {
   "attachments": {},
   "cell_type": "markdown",
   "metadata": {},
   "source": [
    "### Estados de los Archivos en Git\n",
    "En git hay 3 etapas primarias en las cuales un archivo puede estar:\n",
    "1.  Estado Modificado\n",
    "2.  Estado Preparado\n",
    "3.  Estado Confirmado\n",
    "\n",
    "**Estado Modificado:** Un archivo en el estado modificado es un archivo revisado – pero no acometido (sin registrar).\n",
    "\n",
    "**Estado Preparado:** Archivos en la etapa preparado son archivos modificados que han sido seleccionados – en su estado (versión) actual – y están siendo preparados para ser guardados (acometidos) al repositorio .git durante la próxima instantánea de confirmación.\n",
    "\n",
    "**Estado Confirmado:** Archivos en el estado confirmado son archivos que se guardaron en el repositorio .git exitosamente.\n",
    "\n",
    "### Ubicación de Archivos\n",
    "Existen tres lugares principales donde pueden residir las versiones de un archivo cuando se hace control de versiones con Git: el directorio de trabajo, el sector de preparación, o el directorio Git.\n",
    "\n",
    "*   **Directorio de trabajo:** El directorio de trabajo es una carpeta local para los archivos de un proyecto. Esto significa que cualquier carpeta creada en cualquier lugar en un sistema es un directorio de trabajo.\n",
    "\n",
    "*   **Sector de Preparación:** La zona de preparación – técnicamente llamado “index” en lenguaje Git  – es un archivo normalmente ubicado en el directory .git, que guarda información sobre archivos próximos a ser acometidos en el directorio .git.\n",
    "\n",
    "*   **Directorio Git:** El directorio.git es la carpeta (también llamada \"repositorio\") que Git crea dentro del directorio de trabajo que le has instruido para realizar un seguimiento."
   ]
  },
  {
   "attachments": {},
   "cell_type": "markdown",
   "metadata": {},
   "source": [
    "Trabajar con el Sistema de Control de Versiones Git se ve algo así:\n",
    "\n",
    "![alt text](git-basic-workflow-codesweetly.png \"Title\")"
   ]
  },
  {
   "attachments": {},
   "cell_type": "markdown",
   "metadata": {},
   "source": [
    "|**Area**|**Nombre**|**Descripción**|\n",
    "|:---|:---------:|:-----------------------|\n",
    "|1|*Working Directory*|Modificar archivos en el directorio de trabajo.|\n",
    "|2|*Staging Area*|Prepare selectivamente los archivos que quieras confirmar al directorio .git.|\n",
    "|3|*Git Directory*|Confirme el/los archivos que has preparado en el directorio .git. Esto es, guardar de manera permanente una instantánea de los archivos preparados en la base de datos .git.|"
   ]
  },
  {
   "attachments": {},
   "cell_type": "markdown",
   "metadata": {},
   "source": [
    "### Interfaz de Línea de Comandos en Git"
   ]
  },
  {
   "attachments": {},
   "cell_type": "markdown",
   "metadata": {},
   "source": [
    "A continuación se listan los comandos basicos que pueden ser de utilidad si es la primera vez que se está explorando en Git.\n",
    "\n",
    "```python\n",
    "git help <command>\n",
    "git init\n",
    "git status\n",
    "git add\n",
    "git commit\n",
    "git log\n",
    "git log --all --graph --decorate\n",
    "git diff <filename>\n",
    "git diff <revision> <filename>\n",
    "git checkout <revision>\n",
    "```\n",
    "#### Branching and Merging\n",
    "```python\n",
    "git branch\n",
    "git branch <name>\n",
    "git checkout -b <name>\n",
    "git merge <revision>\n",
    "git mergetool\n",
    "git rebase\n",
    "```\n",
    "#### Remotes\n",
    "```python\n",
    "git remote\n",
    "git remote add <name> <url>\n",
    "git push <remote> <local brach>:<remote branch>\n",
    "git branch --set-upstream-to=<remote>/<remote branch>\n",
    "git fetch\n",
    "git pull\n",
    "git clone\n",
    "```"
   ]
  },
  {
   "attachments": {},
   "cell_type": "markdown",
   "metadata": {},
   "source": [
    "Es necesario mencionar que estos son los comandos mas básicos, por lo que si existe alguna duda o comentario sobre acciones adicionales que se pueden realizar, se recomienda que visiten el siguiente link donde encontrarán comandos mas detallados de cada una de las funciones que se pueden realizar:\n"
   ]
  },
  {
   "attachments": {},
   "cell_type": "markdown",
   "metadata": {},
   "source": [
    "|Nombre|Descripcion|Enlace|\n",
    "|:------------|:--------|:-----------:|\n",
    "|Pro Git|Lectura altamente recomendada, donde te enseñara las herramientas necesarias para trabajar con Git|[Pro Git](https://git-scm.com/book/en/v2 \"ProGit\")|\n",
    "|Oh Shit, Git!?!|Es una breve guía de como recuperarse, cuando cometes errores en Git|[Oh Shit, Git!?!](https://ohshitgit.com/ \"Oh Shit, Git!?!\")|\n",
    "|Git for Computer Scientist| Es una breve explicación del modelo de Git, con menos pseudocodigo y mas enfoque en diagramas|[Git for Computer Scientists](https://eagain.net/articles/git-for-computer-scientists/ \"Git for Computer Scientists\")|"
   ]
  },
  {
   "attachments": {},
   "cell_type": "markdown",
   "metadata": {},
   "source": [
    "### Pasos para Subir un proyecto a directorio GitHub\n",
    "\n",
    "1.  Tener una cuenta en GitHub, sino tiene cuenta en GitHub deberá crear una cuenta ([GitHub](https://github.com/ \"GitHub\")).\n",
    "2.  Crear un nuevo repositorio.\n",
    "\n",
    "![NuevoRepositorio](Repositorio.png \"Nuevo_Repositorio\")\n",
    "\n",
    "3.  Ubicarse en la carpeta donde se encuentra el proyecto de forma local.\n",
    "4.  Abrir el Git Bash\n",
    "\n",
    "![Gitbash](Gitbash.png \"Git_Bash\")\n",
    "\n",
    "5.  Continuar con el paso a paso que aparece en la pagina de GitHub\n",
    "\n",
    "6.  Inicializando Git\n",
    "\n",
    "![Gitinit](Init.png \"Init\")\n",
    "\n",
    "7.  Verificando el status de los archivos\n",
    "\n",
    "![Gitstatus](status.png \"Git_Status\")\n",
    "\n",
    "8.  Añadiendo los archvios que se desean subir al repositorio local, si solo desea subir un archivo en especifico debe de definir el nombre del archivo en lugar de escribir **_._** o crear un archivo **_.gitignore_** y colocar dentro del archivo los documentos que no se desean subir\n",
    "\n",
    "![Gitadd](add.png \"Git_Add\")\n",
    "\n",
    "9.  Se agrega el primer commit, especificando que acción se esta realizando sobre el archvio que se esta trabajando  \n",
    "\n",
    "![Gitcommit](commit.png \"Git_Commit\")\n",
    "\n",
    "10. Se escoge la rama donde se ubicará el proyecto y la dirección del directorio remoto al cual se estará subiendo el archivo\n",
    "\n",
    "![Gitpush](Push.png \"Git_Push\")\n",
    "\n",
    "**\\*Nota:** Toma en cuenta que sí es la primera vez que subes un archivo a GitHub te podría aparecer el siguiente mensaje cuando estes ejecutando el paso a paso de GitHub. Por ser la primera vez debes hacer login para poder subir tu proyecto.\n",
    "\n",
    "![LoginGit](LoginGit.png \"Login_Git\")\n",
    "\n"
   ]
  },
  {
   "cell_type": "markdown",
   "metadata": {},
   "source": []
  }
 ],
 "metadata": {
  "kernelspec": {
   "display_name": "Python 3 (ipykernel)",
   "language": "python",
   "name": "python3"
  },
  "language_info": {
   "codemirror_mode": {
    "name": "ipython",
    "version": 3
   },
   "file_extension": ".py",
   "mimetype": "text/x-python",
   "name": "python",
   "nbconvert_exporter": "python",
   "pygments_lexer": "ipython3",
   "version": "3.9.13"
  },
  "vscode": {
   "interpreter": {
    "hash": "ad2bdc8ecc057115af97d19610ffacc2b4e99fae6737bb82f5d7fb13d2f2c186"
   }
  }
 },
 "nbformat": 4,
 "nbformat_minor": 2
}
