{
 "cells": [
  {
   "cell_type": "markdown",
   "metadata": {},
   "source": [
    "![alt text](logoGalileo.png \"Title\")    \n",
    "# CIENCIA DE DATOS EN PYTHON SECCION *U*\n",
    "***  \n",
    "## *HOJA DE TRABAJO # 1*\n",
    "***\n",
    "##### **Pedro Josué Chamale Perez** - __23000478__"
   ]
  },
  {
   "cell_type": "markdown",
   "metadata": {},
   "source": [
    "### ¿Qué es Git?\n",
    "Git es un _Sistema de Control de Versiones Distribuido_, utilizado para guardar diferentes versiones de un archivo para que cualquier versión sea recuperable cuando lo desee.\n",
    "\n",
    "Este sistema **distribuido** tiene un marcado contraste con otros sistemas de control de versiones. Ellos sólo comparten cualquier versión individual que un usuario haya explícitamente extraído desde la base de datos central/local."
   ]
  },
  {
   "cell_type": "markdown",
   "metadata": {},
   "source": [
    "### Estados de los Archivos en Git\n",
    "En git hay 3 etapas primarias en las cuales un archivo puede estar:\n",
    "1.  Estado Modificado\n",
    "2.  Estado Preparado\n",
    "3.  Estado Confirmado\n",
    "\n",
    "**Estado Modificado:** Un archivo en el estado modificado es un archivo revisado – pero no acometido (sin registrar).\n",
    "\n",
    "**Estado Preparado:** Archivos en la etapa preparado son archivos modificados que han sido seleccionados – en su estado (versión) actual – y están siendo preparados para ser guardados (acometidos) al repositorio .git durante la próxima instantánea de confirmación.\n",
    "\n",
    "**Estado Confirmado:** Archivos en el estado confirmado son archivos que se guardaron en el repositorio .git exitosamente.\n",
    "\n",
    "### Ubicación de Archivos\n",
    "Existen tres lugares principales donde pueden residir las versiones de un archivo cuando se hace control de versiones con Git: el directorio de trabajo, el sector de preparación, o el directorio Git.\n",
    "\n",
    "*   **Directorio de trabajo:** El directorio de trabajo es una carpeta local para los archivos de un proyecto. Esto significa que cualquier carpeta creada en cualquier lugar en un sistema es un directorio de trabajo.\n",
    "\n",
    "*   **Sector de Preparación:** La zona de preparación – técnicamente llamado “index” en lenguaje Git  – es un archivo normalmente ubicado en el directory .git, que guarda información sobre archivos próximos a ser acometidos en el directorio .git.\n",
    "\n",
    "*   **Directorio Git:** El directorio.git es la carpeta (también llamada \"repositorio\") que Git crea dentro del directorio de trabajo que le has instruido para realizar un seguimiento."
   ]
  },
  {
   "cell_type": "markdown",
   "metadata": {},
   "source": [
    "# "
   ]
  },
  {
   "cell_type": "code",
   "execution_count": null,
   "metadata": {},
   "outputs": [],
   "source": []
  }
 ],
 "metadata": {
  "kernelspec": {
   "display_name": "Python 3 (ipykernel)",
   "language": "python",
   "name": "python3"
  },
  "language_info": {
   "codemirror_mode": {
    "name": "ipython",
    "version": 3
   },
   "file_extension": ".py",
   "mimetype": "text/x-python",
   "name": "python",
   "nbconvert_exporter": "python",
   "pygments_lexer": "ipython3",
   "version": "3.9.13"
  },
  "vscode": {
   "interpreter": {
    "hash": "ad2bdc8ecc057115af97d19610ffacc2b4e99fae6737bb82f5d7fb13d2f2c186"
   }
  }
 },
 "nbformat": 4,
 "nbformat_minor": 2
}
